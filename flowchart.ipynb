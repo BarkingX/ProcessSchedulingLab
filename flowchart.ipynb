{
 "cells": [
  {
   "metadata": {
    "ExecuteTime": {
     "end_time": "2024-05-23T12:34:49.722691Z",
     "start_time": "2024-05-23T12:34:49.684809Z"
    }
   },
   "cell_type": "code",
   "source": "import graphviz",
   "id": "5fbd9d39d9bd6d8",
   "execution_count": 2,
   "outputs": []
  },
  {
   "metadata": {
    "ExecuteTime": {
     "end_time": "2024-05-23T12:43:23.265543Z",
     "start_time": "2024-05-23T12:43:23.105969Z"
    }
   },
   "cell_type": "code",
   "source": [
    "def generate_flowchart():\n",
    "    dot = graphviz.Digraph(name='Flowchart')\n",
    "    dot.attr(fontname='SimHei')\n",
    "\n",
    "    dot.node('A', '开始', shape='oval')\n",
    "    dot.node('B', '存在状态为运行的进程P?', shape='diamond')\n",
    "    dot.node('C', '等待队列存在进程P?', shape='diamond')\n",
    "    dot.node('D', '就绪队列存在进程P?', shape='diamond')\n",
    "    dot.node('E', '暂停', shape='oval')\n",
    "    dot.node('F', 'P进入就绪队列', shape='box')\n",
    "    dot.node('G', '设置P状态为运行', shape='box')\n",
    "    dot.node('H', 'P时间片未结束?', shape='diamond')\n",
    "    dot.node('I', 'P运行一次', shape='box')\n",
    "    dot.node('J', '运行异常?', shape='diamond')\n",
    "    dot.node('K', 'P运行完成?', shape='diamond')\n",
    "    dot.node('L', 'P时间片结束?', shape='diamond')\n",
    "    dot.node('M', 'P进入等待队列', shape='box')\n",
    "    dot.node('N', '设置P状态为完成', shape='box')\n",
    "    dot.node('O', 'P进入就绪队列', shape='box')\n",
    "    \n",
    "\n",
    "    dot.edge('A', 'B')\n",
    "    dot.edge('B', 'H', label='是')\n",
    "    dot.edge('B', 'C', label='否')\n",
    "    dot.edge('C', 'F', label='是')\n",
    "    dot.edge('C', 'D', label='否')\n",
    "    dot.edge('D', 'G', label='是')\n",
    "    dot.edge('D', 'E', label='否')\n",
    "    dot.edges((node, 'H') for node in ('F', 'G'))\n",
    "    dot.edge('H', 'I', label='是')\n",
    "    dot.edge('H', 'K', label='否')\n",
    "    dot.edge('I', 'J')\n",
    "    dot.edge('J', 'M', label='是')\n",
    "    dot.edge('J', 'K', label='否')\n",
    "    dot.edge('K', 'N', label='是')\n",
    "    dot.edge('K', 'L', label='否')\n",
    "    dot.edge('L', 'O', label='是')\n",
    "    dot.edge('L', 'B', label='否')\n",
    "    dot.edges((node, 'B') for node in ('M', 'N', 'O'))\n",
    "\n",
    "    return dot\n",
    "\n",
    "\n",
    "flowchart = generate_flowchart()\n",
    "flowchart.render('flowchart', format='svg')"
   ],
   "id": "c1b439f52b8824a3",
   "execution_count": 7,
   "outputs": []
  },
  {
   "metadata": {},
   "cell_type": "code",
   "execution_count": null,
   "source": "",
   "id": "5686a58265b8c2a8",
   "outputs": []
  }
 ],
 "metadata": {
  "kernelspec": {
   "display_name": "Python 3",
   "language": "python",
   "name": "python3"
  },
  "language_info": {
   "codemirror_mode": {
    "name": "ipython",
    "version": 2
   },
   "file_extension": ".py",
   "mimetype": "text/x-python",
   "name": "python",
   "nbconvert_exporter": "python",
   "pygments_lexer": "ipython2",
   "version": "2.7.6"
  }
 },
 "nbformat": 4,
 "nbformat_minor": 5
}
